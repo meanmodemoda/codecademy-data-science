{
 "cells": [
  {
   "cell_type": "code",
   "execution_count": 1,
   "metadata": {},
   "outputs": [
    {
     "name": "stderr",
     "output_type": "stream",
     "text": [
      "/var/folders/7r/064264hn6v188kmbchqq00380000gn/T/ipykernel_88725/1175243795.py:13: SettingWithCopyWarning: \n",
      "A value is trying to be set on a copy of a slice from a DataFrame.\n",
      "Try using .loc[row_indexer,col_indexer] = value instead\n",
      "\n",
      "See the caveats in the documentation: https://pandas.pydata.org/pandas-docs/stable/user_guide/indexing.html#returning-a-view-versus-a-copy\n",
      "  neiman_short['Rank']=neiman_short.sort_values([\"Designer\"],ascending=True)\\\n"
     ]
    }
   ],
   "source": [
    "# Add rank column for each status and year\n",
    "# Load libraries\n",
    "import pandas as pd\n",
    "import numpy as np\n",
    "import csv\n",
    "\n",
    "neiman = pd.read_csv('data.csv')\n",
    "neiman.head()\n",
    "\n",
    "neiman_short=neiman[neiman[\"Status\"]!=\"Not Included\"]\n",
    "neiman_short.head()\n",
    "\n",
    "neiman_short['Rank']=neiman_short.sort_values([\"Designer\"],ascending=True)\\\n",
    "            .groupby([\"Year\",\"Status\"])\\\n",
    "                                .cumcount()+1\n",
    "neiman_short.head(100)\n",
    "\n",
    "neiman_short.to_csv('rank.csv',index=False)"
   ]
  }
 ],
 "metadata": {
  "kernelspec": {
   "display_name": "Python 3",
   "language": "python",
   "name": "python3"
  },
  "language_info": {
   "codemirror_mode": {
    "name": "ipython",
    "version": 3
   },
   "file_extension": ".py",
   "mimetype": "text/x-python",
   "name": "python",
   "nbconvert_exporter": "python",
   "pygments_lexer": "ipython3",
   "version": "3.9.6"
  }
 },
 "nbformat": 4,
 "nbformat_minor": 2
}
